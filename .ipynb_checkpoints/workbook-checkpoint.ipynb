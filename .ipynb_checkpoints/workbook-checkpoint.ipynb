{
 "cells": [
  {
   "cell_type": "markdown",
   "id": "ac1d189a",
   "metadata": {},
   "source": [
    "Measures of center, give you an idea of the average student. \n",
    "Measures of spread, give you an idea of how students differ"
   ]
  },
  {
   "cell_type": "markdown",
   "id": "ce371d71",
   "metadata": {},
   "source": [
    "Four Aspects for Quantitative Data\n",
    "\n",
    "1. Measures of Center\n",
    "    * mean\n",
    "    * median\n",
    "    * mode \n",
    "    \n",
    "2. Measures of Spread\n",
    "    * Range\n",
    "    * IQR\n",
    "    * Standard Deviation\n",
    "    * Variance\n",
    "3. The Shape of the data.\n",
    "4. Outliers"
   ]
  },
  {
   "cell_type": "code",
   "execution_count": 1,
   "id": "b71b5789",
   "metadata": {},
   "outputs": [],
   "source": [
    "import numpy as np\n",
    "import pandas as pd"
   ]
  },
  {
   "cell_type": "code",
   "execution_count": 4,
   "id": "f7a6f340",
   "metadata": {},
   "outputs": [
    {
     "name": "stdout",
     "output_type": "stream",
     "text": [
      "13.0\n",
      "8.0\n"
     ]
    }
   ],
   "source": [
    "dog = np.array([5,3,8,3,15,48,9])\n",
    "\n",
    "print(np.mean(dog))\n",
    "\n",
    "print(np.median(dog))"
   ]
  },
  {
   "cell_type": "markdown",
   "id": "322d787d",
   "metadata": {},
   "source": [
    "Total data in Variable $n$\n",
    "\n",
    "Random Variable $X$\n",
    "\n",
    "The capital $X$ is associated with this idea of a random variable, while the observations of the random variable take on lowercase $x$ values.\n",
    "\n",
    "Element in Random Variable  $x_1$ ... $x_n$\n",
    "\n"
   ]
  },
  {
   "cell_type": "code",
   "execution_count": null,
   "id": "d8786ee6",
   "metadata": {},
   "outputs": [],
   "source": [
    "pd.DataFrame()"
   ]
  },
  {
   "cell_type": "code",
   "execution_count": 6,
   "id": "9a0d37a6",
   "metadata": {},
   "outputs": [],
   "source": [
    "df = pd.DataFrame(\n",
    "    [10,20,45,12,8],index=['x1','x2','x3','x4','x5'],columns=['time']\n",
    ")"
   ]
  },
  {
   "cell_type": "markdown",
   "id": "2c1a4c8f",
   "metadata": {},
   "source": [
    "X is time"
   ]
  },
  {
   "cell_type": "code",
   "execution_count": 7,
   "id": "9faa1c80",
   "metadata": {},
   "outputs": [
    {
     "data": {
      "text/html": [
       "<div>\n",
       "<style scoped>\n",
       "    .dataframe tbody tr th:only-of-type {\n",
       "        vertical-align: middle;\n",
       "    }\n",
       "\n",
       "    .dataframe tbody tr th {\n",
       "        vertical-align: top;\n",
       "    }\n",
       "\n",
       "    .dataframe thead th {\n",
       "        text-align: right;\n",
       "    }\n",
       "</style>\n",
       "<table border=\"1\" class=\"dataframe\">\n",
       "  <thead>\n",
       "    <tr style=\"text-align: right;\">\n",
       "      <th></th>\n",
       "      <th>time</th>\n",
       "    </tr>\n",
       "  </thead>\n",
       "  <tbody>\n",
       "    <tr>\n",
       "      <th>x1</th>\n",
       "      <td>10</td>\n",
       "    </tr>\n",
       "    <tr>\n",
       "      <th>x2</th>\n",
       "      <td>20</td>\n",
       "    </tr>\n",
       "    <tr>\n",
       "      <th>x3</th>\n",
       "      <td>45</td>\n",
       "    </tr>\n",
       "    <tr>\n",
       "      <th>x4</th>\n",
       "      <td>12</td>\n",
       "    </tr>\n",
       "    <tr>\n",
       "      <th>x5</th>\n",
       "      <td>8</td>\n",
       "    </tr>\n",
       "  </tbody>\n",
       "</table>\n",
       "</div>"
      ],
      "text/plain": [
       "    time\n",
       "x1    10\n",
       "x2    20\n",
       "x3    45\n",
       "x4    12\n",
       "x5     8"
      ]
     },
     "execution_count": 7,
     "metadata": {},
     "output_type": "execute_result"
    }
   ],
   "source": [
    "df"
   ]
  },
  {
   "cell_type": "markdown",
   "id": "9a9347d3",
   "metadata": {},
   "source": [
    "### Probability\n",
    "\n",
    "1. probability someone spends more than 20 minutes in website\n",
    "\n",
    "$P(X>20)$"
   ]
  },
  {
   "cell_type": "code",
   "execution_count": 16,
   "id": "86668bc8",
   "metadata": {},
   "outputs": [
    {
     "data": {
      "text/plain": [
       "20.0"
      ]
     },
     "execution_count": 16,
     "metadata": {},
     "output_type": "execute_result"
    }
   ],
   "source": [
    "# 1 in 5 = 20 %\n",
    "len(df[df['time'] > 20])/len(df) * 100"
   ]
  },
  {
   "cell_type": "markdown",
   "id": "5d0061cc",
   "metadata": {},
   "source": [
    "2. Probability more than and equal to 20 minutes\n",
    "\n",
    "$P(X >= 20)$"
   ]
  },
  {
   "cell_type": "code",
   "execution_count": 17,
   "id": "c6830c38",
   "metadata": {},
   "outputs": [
    {
     "data": {
      "text/plain": [
       "40.0"
      ]
     },
     "execution_count": 17,
     "metadata": {},
     "output_type": "execute_result"
    }
   ],
   "source": [
    "# 2 in 5 \n",
    "len(df[df['time'] >= 20])/len(df) * 100"
   ]
  },
  {
   "cell_type": "code",
   "execution_count": 19,
   "id": "269155a9",
   "metadata": {},
   "outputs": [
    {
     "data": {
      "text/html": [
       "<div>\n",
       "<style scoped>\n",
       "    .dataframe tbody tr th:only-of-type {\n",
       "        vertical-align: middle;\n",
       "    }\n",
       "\n",
       "    .dataframe tbody tr th {\n",
       "        vertical-align: top;\n",
       "    }\n",
       "\n",
       "    .dataframe thead th {\n",
       "        text-align: right;\n",
       "    }\n",
       "</style>\n",
       "<table border=\"1\" class=\"dataframe\">\n",
       "  <thead>\n",
       "    <tr style=\"text-align: right;\">\n",
       "      <th></th>\n",
       "      <th>Years Experience</th>\n",
       "      <th>Department</th>\n",
       "      <th>Part/Full-Time</th>\n",
       "    </tr>\n",
       "  </thead>\n",
       "  <tbody>\n",
       "    <tr>\n",
       "      <th>0</th>\n",
       "      <td>5</td>\n",
       "      <td>IT</td>\n",
       "      <td>Part-Time</td>\n",
       "    </tr>\n",
       "    <tr>\n",
       "      <th>1</th>\n",
       "      <td>10</td>\n",
       "      <td>Finance</td>\n",
       "      <td>Full-Time</td>\n",
       "    </tr>\n",
       "    <tr>\n",
       "      <th>2</th>\n",
       "      <td>8</td>\n",
       "      <td>HR</td>\n",
       "      <td>Full-Time</td>\n",
       "    </tr>\n",
       "    <tr>\n",
       "      <th>3</th>\n",
       "      <td>1</td>\n",
       "      <td>Finance</td>\n",
       "      <td>Part-Time</td>\n",
       "    </tr>\n",
       "  </tbody>\n",
       "</table>\n",
       "</div>"
      ],
      "text/plain": [
       "   Years Experience Department Part/Full-Time\n",
       "0                 5         IT      Part-Time\n",
       "1                10    Finance      Full-Time\n",
       "2                 8         HR      Full-Time\n",
       "3                 1    Finance      Part-Time"
      ]
     },
     "execution_count": 19,
     "metadata": {},
     "output_type": "execute_result"
    }
   ],
   "source": [
    "df = pd.DataFrame(\n",
    "    {\n",
    "        'Years Experience':[5,10,8,1],\n",
    "        'Department':['IT','Finance','HR','Finance'],\n",
    "        'Part/Full-Time':['Part-Time','Full-Time','Full-Time','Part-Time']\n",
    "    }\n",
    ")\n",
    "\n",
    "df"
   ]
  },
  {
   "cell_type": "markdown",
   "id": "b23348e2",
   "metadata": {},
   "source": [
    "<img src=\"image/formula.PNG\">\n",
    "\n",
    "$\\sum_{i=1}^{2}x_i = x_1 + x_2 $"
   ]
  },
  {
   "cell_type": "markdown",
   "id": "0423688a",
   "metadata": {},
   "source": [
    "$ \\large\\Sigma^9_{i=7}{x_i} = x_7 + x_8 + x_9$"
   ]
  },
  {
   "cell_type": "markdown",
   "id": "8192e1c0",
   "metadata": {},
   "source": [
    "### Notation for Mean\n",
    "\n",
    "<img src=\"image/formula basic.PNG\">"
   ]
  },
  {
   "cell_type": "code",
   "execution_count": 20,
   "id": "7620fa65",
   "metadata": {},
   "outputs": [
    {
     "data": {
      "text/plain": [
       "56"
      ]
     },
     "execution_count": 20,
     "metadata": {},
     "output_type": "execute_result"
    }
   ],
   "source": [
    "np.sum([5,15,3,3,8,10,12])"
   ]
  },
  {
   "cell_type": "code",
   "execution_count": 22,
   "id": "7bc8c184",
   "metadata": {},
   "outputs": [
    {
     "data": {
      "text/plain": [
       "57"
      ]
     },
     "execution_count": 22,
     "metadata": {},
     "output_type": "execute_result"
    }
   ],
   "source": [
    "np.sum([15,3,3,8,10,12]) + 6"
   ]
  },
  {
   "cell_type": "code",
   "execution_count": 23,
   "id": "65a3479e",
   "metadata": {},
   "outputs": [
    {
     "data": {
      "text/plain": [
       "4.0"
      ]
     },
     "execution_count": 23,
     "metadata": {},
     "output_type": "execute_result"
    }
   ],
   "source": [
    "np.sum([3,3,8,10]) / (7-1)"
   ]
  },
  {
   "cell_type": "markdown",
   "id": "64674064",
   "metadata": {},
   "source": [
    "### Histogram\n",
    "\n",
    "* common quantitative visual\n",
    "\n",
    "1. bin our data\n",
    "\n",
    "### Boxplot\n",
    "\n",
    "* comparing spread of datasets\n",
    "* box plots can be easier to compare two or more groups.\n",
    "\n",
    "<img src=\"image/histogram.png\"/>\n",
    "\n",
    "### Standard deviation\n",
    "\n",
    "* single value to compare the two distribution spreads\n",
    "* standard deviation is one of the most common measures for talking about the spread of data. \n",
    "* It is defined as the average distance of each observation from the mean.\n",
    "* standard deviation , on average how much each point varies from the mean of the points\n",
    "\n",
    "\n",
    "<img src=\"image/standard_deviation.jpg\"/>\n",
    "\n",
    "* Dataset \n",
    "\n",
    "$x$ = [10,14,10,6]\n",
    "\n",
    "$\\bar{x} = \\frac{\\sum_{i=1}^{4}x_i }{n}=\\frac{40}{4}=10$\n",
    "\n",
    "$x_i - \\bar{x} = $\n",
    "\n",
    "$(10 - 10)^2$ = $0^2=0$ <br>\n",
    "$(14 - 10)^2$ = $4^2=16$ <br>\n",
    "$(10 - 10)^2$ = $0^2=0$ <br>\n",
    "$(6 - 10)^2$ = $-4^2=16$\n",
    "\n",
    "* Variance\n",
    "\n",
    "$\\frac{1}{n}\\sum_{i=1}^n(x_i - \\bar{x})^2=\\frac{1}{4}(0+16+0+16)=8$\n",
    "\n",
    "* standard deviation square root of variance\n",
    "\n",
    "$\\sqrt( \\frac{1}{n}\\sum_{i=1}^n(x_i - \\bar{x})^2 )$"
   ]
  },
  {
   "cell_type": "markdown",
   "id": "403cc78c",
   "metadata": {},
   "source": [
    "### 5 No. Summary\n",
    "\n",
    "1. Min\n",
    "2. Max\n",
    "3. Q1 : 25%\n",
    "4. Q3 : 75%\n",
    "5. Q2 : Median 50%\n",
    "\n",
    "Range : Max - Min\n",
    "\n",
    "IQR : Q3 - Q1"
   ]
  },
  {
   "cell_type": "code",
   "execution_count": 23,
   "id": "e0ad92a5",
   "metadata": {},
   "outputs": [
    {
     "name": "stdout",
     "output_type": "stream",
     "text": [
      "N: 9\n",
      "Range: 11\n",
      "Median: 5.0\n",
      "First Quartile: 3.0\n",
      "Third Quartile: 8.0\n"
     ]
    }
   ],
   "source": [
    "data = np.array([5, 10, 3, 8, 12, 4, 1, 2, 8])\n",
    "\n",
    "print(f'N: {len(data)}')\n",
    "print(f'Range: {np.max(data) - np.min(data)}')\n",
    "print(f'Median: {np.median(data)}')\n",
    "print(f'First Quartile: {np.quantile(data,q=0.25, interpolation=\"midpoint\")}')\n",
    "print(f'Third Quartile: {np.quantile(data,q=0.75, interpolation=\"midpoint\")}')"
   ]
  },
  {
   "cell_type": "code",
   "execution_count": 24,
   "id": "126a99aa",
   "metadata": {},
   "outputs": [],
   "source": [
    "data = np.array([1, 5, 10, 3, 8, 12, 4])"
   ]
  },
  {
   "cell_type": "code",
   "execution_count": 26,
   "id": "7c9b4765",
   "metadata": {},
   "outputs": [
    {
     "data": {
      "text/plain": [
       "3.6811710647786073"
      ]
     },
     "execution_count": 26,
     "metadata": {},
     "output_type": "execute_result"
    }
   ],
   "source": [
    "np.std(data)"
   ]
  },
  {
   "cell_type": "code",
   "execution_count": null,
   "id": "8ea40675",
   "metadata": {},
   "outputs": [],
   "source": []
  }
 ],
 "metadata": {
  "kernelspec": {
   "display_name": "Python 3 (ipykernel)",
   "language": "python",
   "name": "python3"
  },
  "language_info": {
   "codemirror_mode": {
    "name": "ipython",
    "version": 3
   },
   "file_extension": ".py",
   "mimetype": "text/x-python",
   "name": "python",
   "nbconvert_exporter": "python",
   "pygments_lexer": "ipython3",
   "version": "3.9.4"
  }
 },
 "nbformat": 4,
 "nbformat_minor": 5
}
