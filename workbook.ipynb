{
 "cells": [
  {
   "cell_type": "code",
   "execution_count": 2,
   "id": "b71b5789",
   "metadata": {},
   "outputs": [],
   "source": [
    "import numpy as np\n",
    "import pandas as pd"
   ]
  },
  {
   "cell_type": "code",
   "execution_count": 6,
   "id": "9a0d37a6",
   "metadata": {},
   "outputs": [],
   "source": [
    "df = pd.DataFrame(\n",
    "    [10,20,45,12,8],index=['x1','x2','x3','x4','x5'],columns=['time']\n",
    ")"
   ]
  },
  {
   "cell_type": "markdown",
   "id": "2c1a4c8f",
   "metadata": {},
   "source": [
    "X is time"
   ]
  },
  {
   "cell_type": "code",
   "execution_count": 7,
   "id": "9faa1c80",
   "metadata": {},
   "outputs": [
    {
     "data": {
      "text/html": [
       "<div>\n",
       "<style scoped>\n",
       "    .dataframe tbody tr th:only-of-type {\n",
       "        vertical-align: middle;\n",
       "    }\n",
       "\n",
       "    .dataframe tbody tr th {\n",
       "        vertical-align: top;\n",
       "    }\n",
       "\n",
       "    .dataframe thead th {\n",
       "        text-align: right;\n",
       "    }\n",
       "</style>\n",
       "<table border=\"1\" class=\"dataframe\">\n",
       "  <thead>\n",
       "    <tr style=\"text-align: right;\">\n",
       "      <th></th>\n",
       "      <th>time</th>\n",
       "    </tr>\n",
       "  </thead>\n",
       "  <tbody>\n",
       "    <tr>\n",
       "      <th>x1</th>\n",
       "      <td>10</td>\n",
       "    </tr>\n",
       "    <tr>\n",
       "      <th>x2</th>\n",
       "      <td>20</td>\n",
       "    </tr>\n",
       "    <tr>\n",
       "      <th>x3</th>\n",
       "      <td>45</td>\n",
       "    </tr>\n",
       "    <tr>\n",
       "      <th>x4</th>\n",
       "      <td>12</td>\n",
       "    </tr>\n",
       "    <tr>\n",
       "      <th>x5</th>\n",
       "      <td>8</td>\n",
       "    </tr>\n",
       "  </tbody>\n",
       "</table>\n",
       "</div>"
      ],
      "text/plain": [
       "    time\n",
       "x1    10\n",
       "x2    20\n",
       "x3    45\n",
       "x4    12\n",
       "x5     8"
      ]
     },
     "execution_count": 7,
     "metadata": {},
     "output_type": "execute_result"
    }
   ],
   "source": [
    "df"
   ]
  },
  {
   "cell_type": "markdown",
   "id": "9a9347d3",
   "metadata": {},
   "source": [
    "Probability more than 20 minutes\n",
    "\n",
    "P(X > 20)"
   ]
  },
  {
   "cell_type": "code",
   "execution_count": 16,
   "id": "86668bc8",
   "metadata": {},
   "outputs": [
    {
     "data": {
      "text/plain": [
       "20.0"
      ]
     },
     "execution_count": 16,
     "metadata": {},
     "output_type": "execute_result"
    }
   ],
   "source": [
    "# 1 in 5 = 20 %\n",
    "len(df[df['time'] > 20])/len(df) * 100"
   ]
  },
  {
   "cell_type": "markdown",
   "id": "5d0061cc",
   "metadata": {},
   "source": [
    "Probability more than and equal to 20 minutes\n",
    "\n",
    "P(X >= 20)"
   ]
  },
  {
   "cell_type": "code",
   "execution_count": 17,
   "id": "c6830c38",
   "metadata": {},
   "outputs": [
    {
     "data": {
      "text/plain": [
       "40.0"
      ]
     },
     "execution_count": 17,
     "metadata": {},
     "output_type": "execute_result"
    }
   ],
   "source": [
    "# 2 in 5 \n",
    "len(df[df['time'] >= 20])/len(df) * 100"
   ]
  },
  {
   "cell_type": "code",
   "execution_count": 19,
   "id": "269155a9",
   "metadata": {},
   "outputs": [
    {
     "data": {
      "text/html": [
       "<div>\n",
       "<style scoped>\n",
       "    .dataframe tbody tr th:only-of-type {\n",
       "        vertical-align: middle;\n",
       "    }\n",
       "\n",
       "    .dataframe tbody tr th {\n",
       "        vertical-align: top;\n",
       "    }\n",
       "\n",
       "    .dataframe thead th {\n",
       "        text-align: right;\n",
       "    }\n",
       "</style>\n",
       "<table border=\"1\" class=\"dataframe\">\n",
       "  <thead>\n",
       "    <tr style=\"text-align: right;\">\n",
       "      <th></th>\n",
       "      <th>Years Experience</th>\n",
       "      <th>Department</th>\n",
       "      <th>Part/Full-Time</th>\n",
       "    </tr>\n",
       "  </thead>\n",
       "  <tbody>\n",
       "    <tr>\n",
       "      <th>0</th>\n",
       "      <td>5</td>\n",
       "      <td>IT</td>\n",
       "      <td>Part-Time</td>\n",
       "    </tr>\n",
       "    <tr>\n",
       "      <th>1</th>\n",
       "      <td>10</td>\n",
       "      <td>Finance</td>\n",
       "      <td>Full-Time</td>\n",
       "    </tr>\n",
       "    <tr>\n",
       "      <th>2</th>\n",
       "      <td>8</td>\n",
       "      <td>HR</td>\n",
       "      <td>Full-Time</td>\n",
       "    </tr>\n",
       "    <tr>\n",
       "      <th>3</th>\n",
       "      <td>1</td>\n",
       "      <td>Finance</td>\n",
       "      <td>Part-Time</td>\n",
       "    </tr>\n",
       "  </tbody>\n",
       "</table>\n",
       "</div>"
      ],
      "text/plain": [
       "   Years Experience Department Part/Full-Time\n",
       "0                 5         IT      Part-Time\n",
       "1                10    Finance      Full-Time\n",
       "2                 8         HR      Full-Time\n",
       "3                 1    Finance      Part-Time"
      ]
     },
     "execution_count": 19,
     "metadata": {},
     "output_type": "execute_result"
    }
   ],
   "source": [
    "df = pd.DataFrame(\n",
    "    {\n",
    "        'Years Experience':[5,10,8,1],\n",
    "        'Department':['IT','Finance','HR','Finance'],\n",
    "        'Part/Full-Time':['Part-Time','Full-Time','Full-Time','Part-Time']\n",
    "    }\n",
    ")\n",
    "\n",
    "df"
   ]
  },
  {
   "cell_type": "markdown",
   "id": "b23348e2",
   "metadata": {},
   "source": [
    "<img src=\"image/formula.PNG\">\n",
    "\n",
    "$\\large\\Sigma^2_{i=1}{x_i} = x_1 + x_2 $"
   ]
  },
  {
   "cell_type": "markdown",
   "id": "0423688a",
   "metadata": {},
   "source": [
    "$ \\large\\Sigma^9_{i=7}{x_i} = x_7 + x_8 + x_9$"
   ]
  },
  {
   "cell_type": "markdown",
   "id": "8192e1c0",
   "metadata": {},
   "source": [
    "### Notation for Mean\n",
    "\n",
    "<img src=\"image/formula basic.PNG\">"
   ]
  },
  {
   "cell_type": "code",
   "execution_count": 20,
   "id": "7620fa65",
   "metadata": {},
   "outputs": [
    {
     "data": {
      "text/plain": [
       "56"
      ]
     },
     "execution_count": 20,
     "metadata": {},
     "output_type": "execute_result"
    }
   ],
   "source": [
    "np.sum([5,15,3,3,8,10,12])"
   ]
  },
  {
   "cell_type": "code",
   "execution_count": 22,
   "id": "7bc8c184",
   "metadata": {},
   "outputs": [
    {
     "data": {
      "text/plain": [
       "57"
      ]
     },
     "execution_count": 22,
     "metadata": {},
     "output_type": "execute_result"
    }
   ],
   "source": [
    "np.sum([15,3,3,8,10,12]) + 6"
   ]
  },
  {
   "cell_type": "code",
   "execution_count": 23,
   "id": "65a3479e",
   "metadata": {},
   "outputs": [
    {
     "data": {
      "text/plain": [
       "4.0"
      ]
     },
     "execution_count": 23,
     "metadata": {},
     "output_type": "execute_result"
    }
   ],
   "source": [
    "np.sum([3,3,8,10]) / (7-1)"
   ]
  },
  {
   "cell_type": "code",
   "execution_count": null,
   "id": "8af9cf81",
   "metadata": {},
   "outputs": [],
   "source": []
  }
 ],
 "metadata": {
  "kernelspec": {
   "display_name": "Python 3",
   "language": "python",
   "name": "python3"
  },
  "language_info": {
   "codemirror_mode": {
    "name": "ipython",
    "version": 3
   },
   "file_extension": ".py",
   "mimetype": "text/x-python",
   "name": "python",
   "nbconvert_exporter": "python",
   "pygments_lexer": "ipython3",
   "version": "3.7.5"
  }
 },
 "nbformat": 4,
 "nbformat_minor": 5
}
