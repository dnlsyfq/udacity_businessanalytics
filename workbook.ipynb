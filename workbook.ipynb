{
 "cells": [
  {
   "cell_type": "markdown",
   "id": "a1da8a98",
   "metadata": {},
   "source": [
    "Measures of center, give you an idea of the average student. \n",
    "Measures of spread, give you an idea of how students differ"
   ]
  },
  {
   "cell_type": "markdown",
   "id": "112ffe17",
   "metadata": {},
   "source": [
    "Four Aspects for Quantitative Data\n",
    "\n",
    "1. Measures of Center\n",
    "    * mean\n",
    "    * median\n",
    "    * mode \n",
    "    \n",
    "2. Measures of Spread\n",
    "    * Range\n",
    "    * IQR\n",
    "    * Standard Deviation\n",
    "    * Variance\n",
    "3. The Shape of the data.\n",
    "4. Outliers\n",
    "    * Reporting the 5 no. summary is better than mean and std\n",
    "    * no outliers and your data follow a normal distribution - use the mean and standard deviation to describe your dataset\n",
    "    * spot in histogram\n",
    "    "
   ]
  },
  {
   "cell_type": "code",
   "execution_count": 2,
   "id": "e6585324",
   "metadata": {},
   "outputs": [],
   "source": [
    "import numpy as np\n",
    "import pandas as pd"
   ]
  },
  {
   "cell_type": "code",
   "execution_count": 4,
   "id": "ad5abf4a",
   "metadata": {},
   "outputs": [
    {
     "name": "stdout",
     "output_type": "stream",
     "text": [
      "13.0\n",
      "8.0\n"
     ]
    }
   ],
   "source": [
    "dog = np.array([5,3,8,3,15,48,9])\n",
    "\n",
    "print(np.mean(dog))\n",
    "\n",
    "print(np.median(dog))"
   ]
  },
  {
   "cell_type": "markdown",
   "id": "e7bc2372",
   "metadata": {},
   "source": [
    "Total data in Variable $n$\n",
    "\n",
    "Random Variable $X$\n",
    "\n",
    "The capital $X$ is associated with this idea of a random variable, while the observations of the random variable take on lowercase $x$ values.\n",
    "\n",
    "Element in Random Variable  $x_1$ ... $x_n$\n",
    "\n"
   ]
  },
  {
   "cell_type": "code",
   "execution_count": null,
   "id": "8aa61c41",
   "metadata": {},
   "outputs": [],
   "source": [
    "pd.DataFrame()"
   ]
  },
  {
   "cell_type": "code",
   "execution_count": 6,
   "id": "b3467dd1",
   "metadata": {},
   "outputs": [],
   "source": [
    "df = pd.DataFrame(\n",
    "    [10,20,45,12,8],index=['x1','x2','x3','x4','x5'],columns=['time']\n",
    ")"
   ]
  },
  {
   "cell_type": "markdown",
   "id": "89f71bcf",
   "metadata": {},
   "source": [
    "X is time"
   ]
  },
  {
   "cell_type": "code",
   "execution_count": 7,
   "id": "2025c0cb",
   "metadata": {},
   "outputs": [
    {
     "data": {
      "text/html": [
       "<div>\n",
       "<style scoped>\n",
       "    .dataframe tbody tr th:only-of-type {\n",
       "        vertical-align: middle;\n",
       "    }\n",
       "\n",
       "    .dataframe tbody tr th {\n",
       "        vertical-align: top;\n",
       "    }\n",
       "\n",
       "    .dataframe thead th {\n",
       "        text-align: right;\n",
       "    }\n",
       "</style>\n",
       "<table border=\"1\" class=\"dataframe\">\n",
       "  <thead>\n",
       "    <tr style=\"text-align: right;\">\n",
       "      <th></th>\n",
       "      <th>time</th>\n",
       "    </tr>\n",
       "  </thead>\n",
       "  <tbody>\n",
       "    <tr>\n",
       "      <th>x1</th>\n",
       "      <td>10</td>\n",
       "    </tr>\n",
       "    <tr>\n",
       "      <th>x2</th>\n",
       "      <td>20</td>\n",
       "    </tr>\n",
       "    <tr>\n",
       "      <th>x3</th>\n",
       "      <td>45</td>\n",
       "    </tr>\n",
       "    <tr>\n",
       "      <th>x4</th>\n",
       "      <td>12</td>\n",
       "    </tr>\n",
       "    <tr>\n",
       "      <th>x5</th>\n",
       "      <td>8</td>\n",
       "    </tr>\n",
       "  </tbody>\n",
       "</table>\n",
       "</div>"
      ],
      "text/plain": [
       "    time\n",
       "x1    10\n",
       "x2    20\n",
       "x3    45\n",
       "x4    12\n",
       "x5     8"
      ]
     },
     "execution_count": 7,
     "metadata": {},
     "output_type": "execute_result"
    }
   ],
   "source": [
    "df"
   ]
  },
  {
   "cell_type": "markdown",
   "id": "708a84fe",
   "metadata": {},
   "source": [
    "### Probability\n",
    "\n",
    "1. probability someone spends more than 20 minutes in website\n",
    "\n",
    "$P(X>20)$"
   ]
  },
  {
   "cell_type": "code",
   "execution_count": 16,
   "id": "366eca66",
   "metadata": {},
   "outputs": [
    {
     "data": {
      "text/plain": [
       "20.0"
      ]
     },
     "execution_count": 16,
     "metadata": {},
     "output_type": "execute_result"
    }
   ],
   "source": [
    "# 1 in 5 = 20 %\n",
    "len(df[df['time'] > 20])/len(df) * 100"
   ]
  },
  {
   "cell_type": "markdown",
   "id": "ca0bf3bf",
   "metadata": {},
   "source": [
    "2. Probability more than and equal to 20 minutes\n",
    "\n",
    "$P(X >= 20)$"
   ]
  },
  {
   "cell_type": "code",
   "execution_count": 17,
   "id": "f18f0377",
   "metadata": {},
   "outputs": [
    {
     "data": {
      "text/plain": [
       "40.0"
      ]
     },
     "execution_count": 17,
     "metadata": {},
     "output_type": "execute_result"
    }
   ],
   "source": [
    "# 2 in 5 \n",
    "len(df[df['time'] >= 20])/len(df) * 100"
   ]
  },
  {
   "cell_type": "code",
   "execution_count": 19,
   "id": "b4b56fda",
   "metadata": {},
   "outputs": [
    {
     "data": {
      "text/html": [
       "<div>\n",
       "<style scoped>\n",
       "    .dataframe tbody tr th:only-of-type {\n",
       "        vertical-align: middle;\n",
       "    }\n",
       "\n",
       "    .dataframe tbody tr th {\n",
       "        vertical-align: top;\n",
       "    }\n",
       "\n",
       "    .dataframe thead th {\n",
       "        text-align: right;\n",
       "    }\n",
       "</style>\n",
       "<table border=\"1\" class=\"dataframe\">\n",
       "  <thead>\n",
       "    <tr style=\"text-align: right;\">\n",
       "      <th></th>\n",
       "      <th>Years Experience</th>\n",
       "      <th>Department</th>\n",
       "      <th>Part/Full-Time</th>\n",
       "    </tr>\n",
       "  </thead>\n",
       "  <tbody>\n",
       "    <tr>\n",
       "      <th>0</th>\n",
       "      <td>5</td>\n",
       "      <td>IT</td>\n",
       "      <td>Part-Time</td>\n",
       "    </tr>\n",
       "    <tr>\n",
       "      <th>1</th>\n",
       "      <td>10</td>\n",
       "      <td>Finance</td>\n",
       "      <td>Full-Time</td>\n",
       "    </tr>\n",
       "    <tr>\n",
       "      <th>2</th>\n",
       "      <td>8</td>\n",
       "      <td>HR</td>\n",
       "      <td>Full-Time</td>\n",
       "    </tr>\n",
       "    <tr>\n",
       "      <th>3</th>\n",
       "      <td>1</td>\n",
       "      <td>Finance</td>\n",
       "      <td>Part-Time</td>\n",
       "    </tr>\n",
       "  </tbody>\n",
       "</table>\n",
       "</div>"
      ],
      "text/plain": [
       "   Years Experience Department Part/Full-Time\n",
       "0                 5         IT      Part-Time\n",
       "1                10    Finance      Full-Time\n",
       "2                 8         HR      Full-Time\n",
       "3                 1    Finance      Part-Time"
      ]
     },
     "execution_count": 19,
     "metadata": {},
     "output_type": "execute_result"
    }
   ],
   "source": [
    "df = pd.DataFrame(\n",
    "    {\n",
    "        'Years Experience':[5,10,8,1],\n",
    "        'Department':['IT','Finance','HR','Finance'],\n",
    "        'Part/Full-Time':['Part-Time','Full-Time','Full-Time','Part-Time']\n",
    "    }\n",
    ")\n",
    "\n",
    "df"
   ]
  },
  {
   "cell_type": "markdown",
   "id": "6f4e2373",
   "metadata": {},
   "source": [
    "<img src=\"image/formula.PNG\">\n",
    "\n",
    "$\\sum_{i=1}^{2}x_i = x_1 + x_2 $"
   ]
  },
  {
   "cell_type": "markdown",
   "id": "bc80d56f",
   "metadata": {},
   "source": [
    "$ \\large\\Sigma^9_{i=7}{x_i} = x_7 + x_8 + x_9$"
   ]
  },
  {
   "cell_type": "markdown",
   "id": "f4e9f808",
   "metadata": {},
   "source": [
    "### Notation for Mean\n",
    "\n",
    "<img src=\"image/formula basic.PNG\">"
   ]
  },
  {
   "cell_type": "code",
   "execution_count": 20,
   "id": "9e686beb",
   "metadata": {},
   "outputs": [
    {
     "data": {
      "text/plain": [
       "56"
      ]
     },
     "execution_count": 20,
     "metadata": {},
     "output_type": "execute_result"
    }
   ],
   "source": [
    "np.sum([5,15,3,3,8,10,12])"
   ]
  },
  {
   "cell_type": "code",
   "execution_count": 22,
   "id": "be74eb94",
   "metadata": {},
   "outputs": [
    {
     "data": {
      "text/plain": [
       "57"
      ]
     },
     "execution_count": 22,
     "metadata": {},
     "output_type": "execute_result"
    }
   ],
   "source": [
    "np.sum([15,3,3,8,10,12]) + 6"
   ]
  },
  {
   "cell_type": "code",
   "execution_count": 23,
   "id": "77b236c7",
   "metadata": {},
   "outputs": [
    {
     "data": {
      "text/plain": [
       "4.0"
      ]
     },
     "execution_count": 23,
     "metadata": {},
     "output_type": "execute_result"
    }
   ],
   "source": [
    "np.sum([3,3,8,10]) / (7-1)"
   ]
  },
  {
   "cell_type": "markdown",
   "id": "ecc21adf",
   "metadata": {},
   "source": [
    "### Histogram\n",
    "\n",
    "* common quantitative visual\n",
    "\n",
    "1. bin our data\n",
    "\n",
    "### Boxplot\n",
    "\n",
    "* comparing spread of datasets\n",
    "* box plots can be easier to compare two or more groups.\n",
    "\n",
    "<img src=\"image/histogram.png\"/>\n",
    "\n",
    "### Standard deviation\n",
    "\n",
    "* single value to compare the two distribution spreads\n",
    "* standard deviation is one of the most common measures for talking about the spread of data. \n",
    "* It is defined as the average distance of each observation from the mean.\n",
    "* standard deviation , on average how much each point varies from the mean of the points\n",
    "\n",
    "\n",
    "<img src=\"image/standard_deviation.jpg\"/>\n",
    "\n",
    "* Dataset \n",
    "\n",
    "$x$ = [10,14,10,6]\n",
    "\n",
    "$\\bar{x} = \\frac{\\sum_{i=1}^{4}x_i }{n}=\\frac{40}{4}=10$\n",
    "\n",
    "$x_i - \\bar{x} = $\n",
    "\n",
    "$(10 - 10)^2$ = $0^2=0$ <br>\n",
    "$(14 - 10)^2$ = $4^2=16$ <br>\n",
    "$(10 - 10)^2$ = $0^2=0$ <br>\n",
    "$(6 - 10)^2$ = $-4^2=16$\n",
    "\n",
    "* Variance\n",
    "\n",
    "$\\frac{1}{n}\\sum_{i=1}^n(x_i - \\bar{x})^2=\\frac{1}{4}(0+16+0+16)=8$\n",
    "\n",
    "* standard deviation square root of variance\n",
    "\n",
    "$\\sqrt( \\frac{1}{n}\\sum_{i=1}^n(x_i - \\bar{x})^2 )$"
   ]
  },
  {
   "cell_type": "markdown",
   "id": "ad3e82f9",
   "metadata": {},
   "source": [
    "### 5 No. Summary\n",
    "\n",
    "1. Min\n",
    "2. Max\n",
    "3. Q1 : 25%\n",
    "4. Q3 : 75%\n",
    "5. Q2 : Median 50%\n",
    "\n",
    "Range : Max - Min\n",
    "\n",
    "IQR : Q3 - Q1"
   ]
  },
  {
   "cell_type": "code",
   "execution_count": 23,
   "id": "e26679f0",
   "metadata": {},
   "outputs": [
    {
     "name": "stdout",
     "output_type": "stream",
     "text": [
      "N: 9\n",
      "Range: 11\n",
      "Median: 5.0\n",
      "First Quartile: 3.0\n",
      "Third Quartile: 8.0\n"
     ]
    }
   ],
   "source": [
    "data = np.array([5, 10, 3, 8, 12, 4, 1, 2, 8])\n",
    "\n",
    "print(f'N: {len(data)}')\n",
    "print(f'Range: {np.max(data) - np.min(data)}')\n",
    "print(f'Median: {np.median(data)}')\n",
    "print(f'First Quartile: {np.quantile(data,q=0.25, interpolation=\"midpoint\")}')\n",
    "print(f'Third Quartile: {np.quantile(data,q=0.75, interpolation=\"midpoint\")}')"
   ]
  },
  {
   "cell_type": "code",
   "execution_count": 24,
   "id": "d89ab721",
   "metadata": {},
   "outputs": [],
   "source": [
    "data = np.array([1, 5, 10, 3, 8, 12, 4])"
   ]
  },
  {
   "cell_type": "markdown",
   "id": "5b1c8339",
   "metadata": {},
   "source": [
    "### Important Final Points\n",
    "\n",
    "The variance is used to compare the spread of two different groups. A set of data with higher variance is more spread out than a dataset with lower variance. Be careful though, there might just be an outlier (or outliers) that is increasing the variance when most of the data are actually very close.\n",
    "\n",
    "1. When comparing the spread between two datasets, the units of each must be the same.\n",
    "\n",
    "2. When data are related to money or the economy, higher variance (or standard deviation) is associated with higher risk.\n",
    "\n",
    "3. The standard deviation is used more often in practice than the variance because it shares the units of the original dataset.\n",
    "\n",
    "Use in the World\n",
    "---\n",
    "The standard deviation is associated with risk in finance, assists in determining the significance of drugs in medical studies, and measures the error of our results for predicting anything from the amount of rainfall we can expect tomorrow to your predicted commute time tomorrow."
   ]
  },
  {
   "cell_type": "markdown",
   "id": "204e217f",
   "metadata": {},
   "source": [
    "### Investment Data \n",
    "\n"
   ]
  },
  {
   "cell_type": "markdown",
   "id": "8fec0b39",
   "metadata": {},
   "source": [
    "The above example is a simplified version of the real world but does point out something useful that you may have heard before. Notice if you were not fully invested in either Investment 1 or fully invested in Investment 2, but instead, you were diversified across both investment options, you could earn more than either investment individually. This is the benefit of diversifying your portfolio for long-term gains. For short-term gains, you might not need or want to diversify. You could get lucky and hit short-term gains associated with the upswings (12%, 10%, or 7%) of Investment 2. However, you might also get unlucky, and hit a down term and earn nothing or even lose money on your investment using this same strategy."
   ]
  },
  {
   "cell_type": "code",
   "execution_count": 3,
   "id": "e582c2e1",
   "metadata": {},
   "outputs": [],
   "source": [
    "investment_one = [5,5,5,5,5,5]\n",
    "investment_two = [12,-2,10,0,7,3]"
   ]
  },
  {
   "cell_type": "code",
   "execution_count": 4,
   "id": "6f6d2641",
   "metadata": {},
   "outputs": [
    {
     "data": {
      "text/plain": [
       "5.0"
      ]
     },
     "execution_count": 4,
     "metadata": {},
     "output_type": "execute_result"
    }
   ],
   "source": [
    "np.mean(investment_one)"
   ]
  },
  {
   "cell_type": "code",
   "execution_count": 5,
   "id": "d1bb263e",
   "metadata": {},
   "outputs": [
    {
     "data": {
      "text/plain": [
       "5.0"
      ]
     },
     "execution_count": 5,
     "metadata": {},
     "output_type": "execute_result"
    }
   ],
   "source": [
    "np.mean(investment_two)"
   ]
  },
  {
   "cell_type": "code",
   "execution_count": 7,
   "id": "ff81f49b",
   "metadata": {},
   "outputs": [],
   "source": [
    "data = np.array([15, 4, 3, 8, 15, 22, 7, 9, 2, 3, 3, 12, 6])"
   ]
  },
  {
   "cell_type": "code",
   "execution_count": 14,
   "id": "345b7686",
   "metadata": {},
   "outputs": [
    {
     "name": "stdout",
     "output_type": "stream",
     "text": [
      "n: 13\n",
      "median: 7.0\n",
      "first quartile: 3.0\n",
      "third quartile: 12.0\n",
      "mean: 8.384615384615385\n"
     ]
    }
   ],
   "source": [
    "print(f'n: {len(data)}')\n",
    "print(f'median: {np.median(data)}')\n",
    "print(f'first quartile: {np.quantile(data,q=0.25)}')\n",
    "print(f'third quartile: {np.quantile(data,q=0.75)}')\n",
    "print(f'mean: {np.mean(data)}')"
   ]
  },
  {
   "cell_type": "code",
   "execution_count": 16,
   "id": "37f70436",
   "metadata": {},
   "outputs": [],
   "source": [
    "data = np.array([15, 4, 3, 8, 15, 22, 7, 9, 2, 3, 3, 12, 6])"
   ]
  },
  {
   "cell_type": "code",
   "execution_count": 19,
   "id": "37112391",
   "metadata": {},
   "outputs": [
    {
     "name": "stdout",
     "output_type": "stream",
     "text": [
      "IQR: 9.0 \n",
      "Range: 20\n",
      "Variance: 33.92899408284024\n",
      "Standard deviation: 5.824860005428477\n",
      "Min: 2\n",
      "Max: 22\n"
     ]
    }
   ],
   "source": [
    "print(f'IQR: {np.quantile(data,q=0.75) - np.quantile(data,q=0.25)} ')\n",
    "print(f'Range: {max(data) - min(data)}')\n",
    "print(f'Variance: {np.var(data)}')\n",
    "print(f'Standard deviation: {np.std(data)}')\n",
    "print(f'Min: {min(data)}')\n",
    "print(f'Max: {max(data)}')"
   ]
  },
  {
   "cell_type": "markdown",
   "id": "afcd077e",
   "metadata": {},
   "source": [
    "### Shape \n",
    "\n",
    "|Shape|\tMean vs. Median\t|Real-World Applications|\n",
    "|---|---|---|\n",
    "|Symmetric (Normal)\t|Mean equals Median|\tHeight, Weight, Errors, Precipitation|\n",
    "|Right-skewed|\tMean greater than Median|\tAmount of drug remaining in a bloodstream, Time between phone calls at a call center, Time until light bulb dies|\n",
    "|Left-skewed|\tMean less than Median|Grades as a percentage in many universities, Age of death, Asset price changes|"
   ]
  },
  {
   "cell_type": "markdown",
   "id": "1a421366",
   "metadata": {},
   "source": [
    "|Distribution Shape\t|Types of Data|\n",
    "|---|---|\n",
    "|Bell Shaped|\tHeights, Weight, Scores|\n",
    "|Left Skewed|\tGPA, Age of Death, Price|\n",
    "|Right Skewed|\tDistribution of Wealth, Athletic Abilities|\n",
    "\n",
    "\n",
    "* 5 no. summary is better for skewed"
   ]
  },
  {
   "cell_type": "code",
   "execution_count": 1,
   "id": "2ac1dd46",
   "metadata": {},
   "outputs": [
    {
     "data": {
      "text/plain": [
       "5.5"
      ]
     },
     "execution_count": 1,
     "metadata": {},
     "output_type": "execute_result"
    }
   ],
   "source": [
    "7.5-2"
   ]
  },
  {
   "cell_type": "code",
   "execution_count": null,
   "id": "ec2c7514",
   "metadata": {},
   "outputs": [],
   "source": []
  }
 ],
 "metadata": {
  "kernelspec": {
   "display_name": "Python 3",
   "language": "python",
   "name": "python3"
  },
  "language_info": {
   "codemirror_mode": {
    "name": "ipython",
    "version": 3
   },
   "file_extension": ".py",
   "mimetype": "text/x-python",
   "name": "python",
   "nbconvert_exporter": "python",
   "pygments_lexer": "ipython3",
   "version": "3.7.5"
  }
 },
 "nbformat": 4,
 "nbformat_minor": 5
}
